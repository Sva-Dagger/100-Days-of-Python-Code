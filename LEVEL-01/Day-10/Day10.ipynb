{
 "cells": [
  {
   "cell_type": "markdown",
   "metadata": {},
   "source": [
    "Day-10 Task-1(Mini Calculator)"
   ]
  },
  {
   "cell_type": "code",
   "execution_count": 1,
   "metadata": {},
   "outputs": [],
   "source": [
    "def Add(num1, num2):\n",
    "    answer = num1 + num2\n",
    "    print(answer)\n",
    "    return answer"
   ]
  },
  {
   "cell_type": "code",
   "execution_count": 2,
   "metadata": {},
   "outputs": [],
   "source": [
    "def Sub(num1, num2):\n",
    "    answer = num1 - num2\n",
    "    print(answer)\n",
    "    return answer"
   ]
  },
  {
   "cell_type": "code",
   "execution_count": 3,
   "metadata": {},
   "outputs": [],
   "source": [
    "def Mult(num1, num2):\n",
    "    answer = num1 * num2\n",
    "    print(answer)\n",
    "    return answer"
   ]
  },
  {
   "cell_type": "code",
   "execution_count": 4,
   "metadata": {},
   "outputs": [],
   "source": [
    "def Divide(num1, num2):\n",
    "    answer = num1 / num2\n",
    "    print(answer)\n",
    "    return answer"
   ]
  },
  {
   "cell_type": "code",
   "execution_count": 5,
   "metadata": {},
   "outputs": [],
   "source": [
    "operations =  {\n",
    "    \"+\" : Add,\n",
    "    \"-\" : Sub,\n",
    "    \"*\" : Mult,\n",
    "    \"/\" : Divide\n",
    "}"
   ]
  },
  {
   "cell_type": "code",
   "execution_count": 6,
   "metadata": {},
   "outputs": [],
   "source": [
    "num1 = float(input(\"Enter your 1st number : \"))\n",
    "num2 = float(input(\"Enter your 2nd number : \"))"
   ]
  },
  {
   "cell_type": "code",
   "execution_count": 7,
   "metadata": {},
   "outputs": [
    {
     "name": "stdout",
     "output_type": "stream",
     "text": [
      "+\n",
      "-\n",
      "*\n",
      "/\n"
     ]
    }
   ],
   "source": [
    "for symbols in operations:\n",
    "    print(symbols)"
   ]
  },
  {
   "cell_type": "code",
   "execution_count": 8,
   "metadata": {},
   "outputs": [
    {
     "name": "stdout",
     "output_type": "stream",
     "text": [
      "48.0\n",
      "6.0 * 8.0 = 48.0\n"
     ]
    }
   ],
   "source": [
    "operation_symbol = input(\"Pick an operation from the line above : \")\n",
    "caculate_functions = operations[operation_symbol]\n",
    "answer = float(caculate_functions(num1, num2))\n",
    "print(f\"{num1} {operation_symbol} {num2} = {answer}\")\n",
    "Continue = input(\"You want to continue the game play Y/N : \")\n",
    "num1 = answer\n",
    "num2 = float(input(\"Enter the new number 2 : \"))"
   ]
  },
  {
   "cell_type": "code",
   "execution_count": 9,
   "metadata": {},
   "outputs": [
    {
     "name": "stdout",
     "output_type": "stream",
     "text": [
      "+\n",
      "-\n",
      "*\n",
      "/\n",
      "2688.0\n",
      "48.0 * 56.0 = 2688.0\n"
     ]
    }
   ],
   "source": [
    "if Continue == \"Y\":\n",
    "    for symbols in operations:\n",
    "        print(symbols)\n",
    "    operation_symbol = input(\"Pick an operation from the line above : \")\n",
    "    caculate_functions = operations[operation_symbol]\n",
    "    answer = float(caculate_functions(num1, num2))\n",
    "    print(f\"{num1} {operation_symbol} {num2} = {answer}\")\n",
    "else :\n",
    "    print(\"Thank you for using this\")"
   ]
  }
 ],
 "metadata": {
  "kernelspec": {
   "display_name": ".venv",
   "language": "python",
   "name": "python3"
  },
  "language_info": {
   "codemirror_mode": {
    "name": "ipython",
    "version": 3
   },
   "file_extension": ".py",
   "mimetype": "text/x-python",
   "name": "python",
   "nbconvert_exporter": "python",
   "pygments_lexer": "ipython3",
   "version": "3.13.1"
  }
 },
 "nbformat": 4,
 "nbformat_minor": 2
}
