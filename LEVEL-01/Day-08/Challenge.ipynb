{
 "cells": [
  {
   "cell_type": "markdown",
   "metadata": {},
   "source": [
    "Day-8 Challenge-1 (Paint area)"
   ]
  },
  {
   "cell_type": "code",
   "execution_count": 1,
   "metadata": {},
   "outputs": [],
   "source": [
    "def calculate_paint_area(height, width, coverage):\n",
    "    area_to_paint = height * width\n",
    "    number_of_cans = area_to_paint / coverage\n",
    "    if number_of_cans % 1 != 0:\n",
    "        number_of_cans = int(number_of_cans) + 1\n",
    "    else:\n",
    "        number_of_cans = int(number_of_cans)\n",
    "    return number_of_cans"
   ]
  },
  {
   "cell_type": "code",
   "execution_count": 2,
   "metadata": {},
   "outputs": [
    {
     "name": "stdout",
     "output_type": "stream",
     "text": [
      "You'll need 476 cans of paint.\n"
     ]
    }
   ],
   "source": [
    "# Get user input for height and width\n",
    "test_h = int(input(\"Enter your wall height : \"))\n",
    "test_w = int(input(\"Enter your wall width : \"))\n",
    "cover = 5\n",
    "\n",
    "# Calculate the number of cans needed\n",
    "number_of_cans = calculate_paint_area(height=test_h, width=test_w, coverage=cover)\n",
    "print(f\"You'll need {number_of_cans} cans of paint.\")\n",
    "\n",
    "\n"
   ]
  }
 ],
 "metadata": {
  "kernelspec": {
   "display_name": ".venv",
   "language": "python",
   "name": "python3"
  },
  "language_info": {
   "codemirror_mode": {
    "name": "ipython",
    "version": 3
   },
   "file_extension": ".py",
   "mimetype": "text/x-python",
   "name": "python",
   "nbconvert_exporter": "python",
   "pygments_lexer": "ipython3",
   "version": "3.13.1"
  }
 },
 "nbformat": 4,
 "nbformat_minor": 2
}
