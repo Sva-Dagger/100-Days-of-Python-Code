{
 "cells": [
  {
   "cell_type": "markdown",
   "metadata": {},
   "source": [
    "Day-8 Task-1 (Caesar Cypher)"
   ]
  },
  {
   "cell_type": "code",
   "execution_count": 1,
   "metadata": {},
   "outputs": [],
   "source": [
    "alphabet = ['a', 'b', 'c', 'd', 'e', 'f', 'g', 'h', 'i', 'j', 'k', 'l', 'm', 'n', 'o', 'p', 'q', 'r', 's', 't', 'u', 'v', 'w', 'x', 'y', 'z']"
   ]
  },
  {
   "cell_type": "code",
   "execution_count": 2,
   "metadata": {},
   "outputs": [],
   "source": [
    "def encrypt(plain_text, shift_amount):\n",
    "    cipher_text = \"\"\n",
    "    for letter in plain_text:\n",
    "        if letter in alphabet:\n",
    "            position = alphabet.index(letter)\n",
    "            new_position = (position + shift_amount) % 26\n",
    "            new_letter = alphabet[new_position]\n",
    "            cipher_text += new_letter\n",
    "        else:\n",
    "            cipher_text += letter\n",
    "    print(f\"Encoded text is {cipher_text}\")\n",
    "    return cipher_text"
   ]
  },
  {
   "cell_type": "code",
   "execution_count": null,
   "metadata": {},
   "outputs": [
    {
     "name": "stdout",
     "output_type": "stream",
     "text": [
      "Encoded text is mjqqt\n",
      "Decoded text is hello\n"
     ]
    }
   ],
   "source": [
    "end_of_game = False\n",
    "while not end_of_game:\n",
    "    direction = input(\"Type 'encode' to encrypt, type 'decode' to decrypt:\\n\").lower()\n",
    "    text = input(\"Type your message:\\n\").lower()\n",
    "\n",
    "    while True:\n",
    "        try:\n",
    "            shift = int(input(\"Type the shift number:\\n\"))\n",
    "            break\n",
    "        except ValueError:\n",
    "            print(\"Invalid input. Please enter a valid integer for the shift number.\")\n",
    "    \n",
    "    if direction == \"encode\":\n",
    "        cipher_text = encrypt(plain_text=text, shift_amount=shift)\n",
    "        decryption = input(\"Do you want to decrypt the word? yes/no: \").lower()\n",
    "        if decryption == \"yes\":\n",
    "            decrypt(cipher_text, shift_amount=shift)\n",
    "        else:\n",
    "            print(\"Thank you for using our program\")\n",
    "            end_of_game = True\n",
    "    elif direction == \"decode\":\n",
    "        decrypt(plain_text=text, shift_amount=shift)\n",
    "    \n",
    "    user_choice = input(\"Do you want to continue? yes/no: \").lower()\n",
    "    if user_choice == \"no\":\n",
    "        end_of_game = True"
   ]
  },
  {
   "cell_type": "code",
   "execution_count": 3,
   "metadata": {},
   "outputs": [],
   "source": [
    "def decrypt(cipher_text, shift_amount):\n",
    "    plain_text = \"\"\n",
    "    for letter in cipher_text:\n",
    "        if letter in alphabet:\n",
    "            position = alphabet.index(letter)\n",
    "            new_position = (position - shift_amount) % 26\n",
    "            new_letter = alphabet[new_position]\n",
    "            plain_text += new_letter\n",
    "        else:\n",
    "            plain_text += letter\n",
    "    print(f\"Decoded text is {plain_text}\")\n",
    "    return plain_text\n"
   ]
  }
 ],
 "metadata": {
  "kernelspec": {
   "display_name": ".venv",
   "language": "python",
   "name": "python3"
  },
  "language_info": {
   "codemirror_mode": {
    "name": "ipython",
    "version": 3
   },
   "file_extension": ".py",
   "mimetype": "text/x-python",
   "name": "python",
   "nbconvert_exporter": "python",
   "pygments_lexer": "ipython3",
   "version": "3.13.1"
  }
 },
 "nbformat": 4,
 "nbformat_minor": 2
}
