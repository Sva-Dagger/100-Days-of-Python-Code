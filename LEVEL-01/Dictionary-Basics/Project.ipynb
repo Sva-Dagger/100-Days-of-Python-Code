{
 "cells": [
  {
   "cell_type": "markdown",
   "metadata": {},
   "source": [
    "Project-01(File-Handling)"
   ]
  },
  {
   "cell_type": "code",
   "execution_count": 2,
   "metadata": {},
   "outputs": [],
   "source": [
    "import pandas as pd"
   ]
  },
  {
   "cell_type": "code",
   "execution_count": 3,
   "metadata": {},
   "outputs": [],
   "source": [
    "# Load the NATO phonetic alphabet data\n",
    "data = pd.read_csv(\"nato_phonetic_alphabet.csv\")"
   ]
  },
  {
   "cell_type": "code",
   "execution_count": null,
   "metadata": {},
   "outputs": [
    {
     "name": "stdout",
     "output_type": "stream",
     "text": [
      "['Alfa']\n",
      "['Bravo']\n",
      "['Charlie']\n",
      "['Delta']\n",
      "['Echo']\n"
     ]
    }
   ],
   "source": [
    "# Create a dictionary from the data\n",
    "nato_dict = {row.letter: row.code for (index, row) in data.iterrows()}\n",
    "\n",
    "game_is_on = True\n",
    "while game_is_on:\n",
    "    try:\n",
    "        word = input(\"Enter a word: \").upper()\n",
    "        if word == \"EXIT\":\n",
    "            game_is_on = False\n",
    "            print(\"Exiting the game.\")\n",
    "            break\n",
    "        output_list = [nato_dict[letter] for letter in word]\n",
    "    except KeyError:\n",
    "        print(\"Sorry, only letters in the alphabet please.\")\n",
    "    else:\n",
    "        print(output_list)"
   ]
  }
 ],
 "metadata": {
  "kernelspec": {
   "display_name": ".venv",
   "language": "python",
   "name": "python3"
  },
  "language_info": {
   "codemirror_mode": {
    "name": "ipython",
    "version": 3
   },
   "file_extension": ".py",
   "mimetype": "text/x-python",
   "name": "python",
   "nbconvert_exporter": "python",
   "pygments_lexer": "ipython3",
   "version": "3.13.1"
  }
 },
 "nbformat": 4,
 "nbformat_minor": 2
}
