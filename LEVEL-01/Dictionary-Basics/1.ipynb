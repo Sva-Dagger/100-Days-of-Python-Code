{
 "cells": [
  {
   "cell_type": "markdown",
   "metadata": {},
   "source": [
    "Day-01 Task-01(Dictionary Comprehention)"
   ]
  },
  {
   "cell_type": "code",
   "execution_count": 1,
   "metadata": {},
   "outputs": [
    {
     "name": "stdout",
     "output_type": "stream",
     "text": [
      "{'Siva': 87, 'Suresh': 68, 'Mathi': 68, 'Divya': 17, 'Raju': 11, 'Devi': 53, 'Mini': 9}\n",
      "{'Siva': 87, 'Suresh': 68, 'Mathi': 68}\n"
     ]
    }
   ],
   "source": [
    "import random\n",
    "\n",
    "names = [\"Siva\", \"Suresh\",\"Mathi\", \"Divya\", \"Raju\", \"Devi\", \"Mini\"]\n",
    "students_score = {student:random.randint(1, 100) for student in names}\n",
    "print(students_score)\n",
    "High_score = {student:score for (student,score) in (students_score).items() if score >= 60}\n",
    "print(High_score)"
   ]
  }
 ],
 "metadata": {
  "kernelspec": {
   "display_name": ".venv",
   "language": "python",
   "name": "python3"
  },
  "language_info": {
   "codemirror_mode": {
    "name": "ipython",
    "version": 3
   },
   "file_extension": ".py",
   "mimetype": "text/x-python",
   "name": "python",
   "nbconvert_exporter": "python",
   "pygments_lexer": "ipython3",
   "version": "3.13.1"
  }
 },
 "nbformat": 4,
 "nbformat_minor": 2
}
