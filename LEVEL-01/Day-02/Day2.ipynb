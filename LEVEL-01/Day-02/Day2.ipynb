{
 "cells": [
  {
   "cell_type": "markdown",
   "metadata": {},
   "source": [
    "Day-2 Task-1"
   ]
  },
  {
   "cell_type": "code",
   "execution_count": null,
   "metadata": {},
   "outputs": [
    {
     "name": "stdout",
     "output_type": "stream",
     "text": [
      "Each Person Should Pay 52.5$\n"
     ]
    }
   ],
   "source": [
    "Total_bill = float(input(\"Enter your total bill in $ \"))\n",
    "Tip_in_percent = (float(input(\"Enter your Tip in % \"))/100)\n",
    "\n",
    "Tip = (Total_bill*Tip_in_percent)\n",
    "bill_with_Tip = Total_bill + Tip\n",
    "Sharing_persons = int(input(\"Enter total number of sharing persons \"))\n",
    "Total_Shared_Bill = (round(bill_with_Tip/Sharing_persons, 2))\n",
    "\n",
    "print(f\"Each Person Should Pay {Total_Shared_Bill}$\")"
   ]
  },
  {
   "cell_type": "markdown",
   "metadata": {},
   "source": [
    "Day-1 Challenge-1"
   ]
  },
  {
   "cell_type": "code",
   "execution_count": 2,
   "metadata": {},
   "outputs": [
    {
     "name": "stdout",
     "output_type": "stream",
     "text": [
      "1.5555555555555556\n"
     ]
    }
   ],
   "source": [
    "# BMI CALCULATOR\n",
    "\n",
    "Height = int(input(\"Enter your Height \"))\n",
    "Weight = int(input(\"Enter your Weight \"))\n",
    "\n",
    "BMI = (Weight/(Height**2))\n",
    "\n",
    "print(BMI)"
   ]
  },
  {
   "cell_type": "markdown",
   "metadata": {},
   "source": [
    "Day-2 Challenge-2"
   ]
  },
  {
   "cell_type": "code",
   "execution_count": 3,
   "metadata": {},
   "outputs": [
    {
     "name": "stdout",
     "output_type": "stream",
     "text": [
      "You have 3380 weeks left.\n"
     ]
    }
   ],
   "source": [
    "age = input(\"your age \")\n",
    "\n",
    "years = 90 - int(age)\n",
    "weeks = years * 52\n",
    "\n",
    "print(f\"You have {weeks} weeks left.\")\n"
   ]
  },
  {
   "cell_type": "markdown",
   "metadata": {},
   "source": [
    "Day-2 Challenge-3"
   ]
  },
  {
   "cell_type": "code",
   "execution_count": 4,
   "metadata": {},
   "outputs": [
    {
     "name": "stdout",
     "output_type": "stream",
     "text": [
      "12\n"
     ]
    }
   ],
   "source": [
    "#Adding two umbers from a stringed numbers\n",
    "\n",
    "A = input(\"Enter Your_Number \")\n",
    "\n",
    "num1 = int(A[0])\n",
    "num2 = int(A[1])\n",
    "print(num1 + num2)\n"
   ]
  }
 ],
 "metadata": {
  "kernelspec": {
   "display_name": ".venv",
   "language": "python",
   "name": "python3"
  },
  "language_info": {
   "codemirror_mode": {
    "name": "ipython",
    "version": 3
   },
   "file_extension": ".py",
   "mimetype": "text/x-python",
   "name": "python",
   "nbconvert_exporter": "python",
   "pygments_lexer": "ipython3",
   "version": "3.13.1"
  }
 },
 "nbformat": 4,
 "nbformat_minor": 2
}
