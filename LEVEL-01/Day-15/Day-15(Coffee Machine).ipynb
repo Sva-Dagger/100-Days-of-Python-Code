{
 "cells": [
  {
   "cell_type": "markdown",
   "metadata": {},
   "source": [
    "Day-15 Task-1(Coffee Machine)"
   ]
  },
  {
   "cell_type": "code",
   "execution_count": 2,
   "metadata": {},
   "outputs": [],
   "source": [
    "MENU = {\n",
    "    \"espresso\": {\n",
    "        \"ingredients\": {\n",
    "            \"water\": 50,\n",
    "            \"coffee\": 18,\n",
    "        },\n",
    "        \"cost\": 1.5,\n",
    "    },\n",
    "    \"latte\": {\n",
    "        \"ingredients\": {\n",
    "            \"water\": 200,\n",
    "            \"milk\": 150,\n",
    "            \"coffee\": 24,\n",
    "        },\n",
    "        \"cost\": 2.5,\n",
    "    },\n",
    "    \"cappuccino\": {\n",
    "        \"ingredients\": {\n",
    "            \"water\": 250,\n",
    "            \"milk\": 100,\n",
    "            \"coffee\": 24,\n",
    "        },\n",
    "        \"cost\": 3.0,\n",
    "    }\n",
    "}"
   ]
  },
  {
   "cell_type": "code",
   "execution_count": 3,
   "metadata": {},
   "outputs": [],
   "source": [
    "profit = 0\n",
    "resources = {\n",
    "    \"water\": 300,\n",
    "    \"milk\": 200,\n",
    "    \"coffee\": 100,\n",
    "}\n"
   ]
  },
  {
   "cell_type": "code",
   "execution_count": 4,
   "metadata": {},
   "outputs": [],
   "source": [
    "def is_resource_sufficient(order_ingredients):\n",
    "    \"\"\"Returned true when order can be made. False when ingredients are insufficient\"\"\"\n",
    "    is_enough = True\n",
    "    for item in order_ingredients:\n",
    "        if order_ingredients[item] >= resources[item]:\n",
    "            print(f\"Sorry, There is no enough of {item}.\")\n",
    "            is_enough = False\n",
    "    return is_enough"
   ]
  },
  {
   "cell_type": "code",
   "execution_count": 5,
   "metadata": {},
   "outputs": [],
   "source": [
    "def process_coins():\n",
    "    \"\"\"Returns the total calculated from the coins inserted.\"\"\"\n",
    "    print(\"please Insert Coins.\")\n",
    "    total = int(input(\"How many quarters? : \")) * 0.25\n",
    "    total += int(input(\"How many dines? : \")) * 0.1\n",
    "    total += int(input(\"How many nickles? : \")) * 0.05\n",
    "    total += int(input(\"How many pennies? : \")) * 0.01\n",
    "    return total"
   ]
  },
  {
   "cell_type": "code",
   "execution_count": 6,
   "metadata": {},
   "outputs": [],
   "source": [
    "def is_transaction_successful(money_received, drink_cost):\n",
    "    \"\"\"return True when payment accepted or False when the money is insufficient.\"\"\"\n",
    "    if money_received >= drink_cost:\n",
    "        change = round(money_received - drink_cost, 2)\n",
    "        print(f\"Here is ${change} dollars in change.\")\n",
    "        global profit\n",
    "        profit += drink_cost\n",
    "        return True\n",
    "    else:\n",
    "        print(\"Sorry that's not enough money. Money refunded.\")\n",
    "        return False"
   ]
  },
  {
   "cell_type": "code",
   "execution_count": 7,
   "metadata": {},
   "outputs": [],
   "source": [
    "def make_coffee(drink_name, order_ingredients):\n",
    "    \"\"\"Deduct the required ingredients from the resources\"\"\"\n",
    "    for item in order_ingredients:\n",
    "        resources[item] -= order_ingredients[item]\n",
    "        print(f\"Here is your {drink_name} ☕\")"
   ]
  },
  {
   "cell_type": "code",
   "execution_count": null,
   "metadata": {},
   "outputs": [
    {
     "name": "stdout",
     "output_type": "stream",
     "text": [
      "please Insert Coins.\n",
      "Here is $1.01 dollars in change.\n",
      "Here is your espresso ☕\n",
      "Here is your espresso ☕\n",
      "please Insert Coins.\n",
      "Here is $0.78 dollars in change.\n",
      "Here is your latte ☕\n",
      "Here is your latte ☕\n",
      "Here is your latte ☕\n",
      "Water: 50ml\n",
      "Milk: 50\n",
      "Coffee: 58g\n",
      "Money: $4.0\n"
     ]
    }
   ],
   "source": [
    "is_on = True\n",
    "while is_on:\n",
    "    choice = input(\"What would you like? (espresso/latte/cappuccino): \")\n",
    "    if choice == \"off\":\n",
    "        is_on = False\n",
    "    elif choice == \"report\":\n",
    "        print(f\"Water: {resources[\"water\"]}ml\")\n",
    "        print(f\"Milk: {resources[\"milk\"]}\")\n",
    "        print(f\"Coffee: {resources[\"coffee\"]}g\")\n",
    "        print(f\"Money: ${profit}\")\n",
    "    else:\n",
    "        drink = MENU[choice]\n",
    "        if is_resource_sufficient(drink[\"ingredients\"]):\n",
    "            payment = process_coins()\n",
    "            if is_transaction_successful(payment, drink[\"cost\"]):\n",
    "                make_coffee(choice, drink[\"ingredients\"])"
   ]
  }
 ],
 "metadata": {
  "kernelspec": {
   "display_name": ".venv",
   "language": "python",
   "name": "python3"
  },
  "language_info": {
   "codemirror_mode": {
    "name": "ipython",
    "version": 3
   },
   "file_extension": ".py",
   "mimetype": "text/x-python",
   "name": "python",
   "nbconvert_exporter": "python",
   "pygments_lexer": "ipython3",
   "version": "3.13.1"
  }
 },
 "nbformat": 4,
 "nbformat_minor": 2
}
