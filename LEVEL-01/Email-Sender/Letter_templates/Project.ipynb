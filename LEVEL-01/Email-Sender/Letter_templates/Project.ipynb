{
 "cells": [
  {
   "cell_type": "markdown",
   "metadata": {},
   "source": [
    "Project-01(Email-Sender)"
   ]
  },
  {
   "cell_type": "code",
   "execution_count": 6,
   "metadata": {},
   "outputs": [],
   "source": [
    "from datetime import datetime\n",
    "import pandas\n",
    "import random\n",
    "import smtplib"
   ]
  },
  {
   "cell_type": "code",
   "execution_count": 8,
   "metadata": {},
   "outputs": [],
   "source": [
    "my_email = \"sivam4266@gmail.com\"\n",
    "password = \"vnelpfwyakpauaqy\"\n",
    "today = datetime.now()\n",
    "today_tuple = (today.month, today.day)"
   ]
  },
  {
   "cell_type": "code",
   "execution_count": 9,
   "metadata": {},
   "outputs": [],
   "source": [
    "file = open(\"birthdays.csv\")\n",
    "Data = pandas.read_csv(file)\n",
    "Birth_day_Dict = {(data_row[\"month\"] , data_row[\"day\"]): data_row for (index, data_row) in Data.iterrows()}"
   ]
  },
  {
   "cell_type": "code",
   "execution_count": 13,
   "metadata": {},
   "outputs": [],
   "source": [
    "if today_tuple in Birth_day_Dict:\n",
    "    birthday_person = Birth_day_Dict[today_tuple]\n",
    "    file_path = f\"./letter/letter_{random.randint(1,3)}.txt\"\n",
    "    my_name = \"Sivam\" \n",
    "    with open(file_path) as New_file:\n",
    "        New_Data = New_file.read()\n",
    "        New_Data = New_Data.replace(\"[NAME]\", birthday_person[\"name\"])\n",
    "        New_Data = New_Data.replace(\"[Your Name]\", my_name)\n",
    "\n",
    "    with smtplib.SMTP(\"smtp.gmail.com\", port= 587) as connection:\n",
    "        connection.starttls()\n",
    "        connection.login(my_email,password)\n",
    "        connection.sendmail(from_addr=my_email,\n",
    "                            to_addrs=birthday_person[\"email\"],\n",
    "                            msg=f\"subject: Happy Birthday!\\n\\n{New_Data}\"\n",
    "                            )"
   ]
  }
 ],
 "metadata": {
  "kernelspec": {
   "display_name": ".venv",
   "language": "python",
   "name": "python3"
  },
  "language_info": {
   "codemirror_mode": {
    "name": "ipython",
    "version": 3
   },
   "file_extension": ".py",
   "mimetype": "text/x-python",
   "name": "python",
   "nbconvert_exporter": "python",
   "pygments_lexer": "ipython3",
   "version": "3.13.1"
  }
 },
 "nbformat": 4,
 "nbformat_minor": 2
}
