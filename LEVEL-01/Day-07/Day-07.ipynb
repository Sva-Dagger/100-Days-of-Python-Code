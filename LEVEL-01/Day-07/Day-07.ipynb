{
 "cells": [
  {
   "cell_type": "markdown",
   "metadata": {},
   "source": [
    "Day-07 Task-01(Hang-Man)"
   ]
  },
  {
   "cell_type": "code",
   "execution_count": null,
   "metadata": {},
   "outputs": [
    {
     "name": "stdout",
     "output_type": "stream",
     "text": [
      "\n",
      "  +---+\n",
      "  |   |\n",
      "  O   |\n",
      " /|\\  |\n",
      " / \\  |\n",
      "      |\n",
      "=========\n",
      "\n"
     ]
    }
   ],
   "source": [
    "import random\n",
    "from Art import stages\n",
    "\n",
    "# Define the stages of the hangman game\n",
    "print(stages[0])"
   ]
  },
  {
   "cell_type": "code",
   "execution_count": 20,
   "metadata": {},
   "outputs": [],
   "source": [
    "# List of words to choose from\n",
    "word_list = [\"PineApple\", \"Apple\", \"Mango\"]"
   ]
  },
  {
   "cell_type": "code",
   "execution_count": 16,
   "metadata": {},
   "outputs": [],
   "source": [
    "# Choose a random word from the word list\n",
    "chosen_word = random.choice(word_list)\n",
    "word_length = len(chosen_word)"
   ]
  },
  {
   "cell_type": "code",
   "execution_count": 17,
   "metadata": {},
   "outputs": [],
   "source": [
    "# Create a list to store the guessed letters\n",
    "new_list = [\"_\" for _ in range(word_length)]"
   ]
  },
  {
   "cell_type": "code",
   "execution_count": 18,
   "metadata": {},
   "outputs": [],
   "source": [
    "# Initialize variables\n",
    "end_of_game = False\n",
    "lives = 6"
   ]
  },
  {
   "cell_type": "code",
   "execution_count": 22,
   "metadata": {},
   "outputs": [],
   "source": [
    "# Main game loop\n",
    "while not end_of_game:\n",
    "    print(new_list)\n",
    "    guess = input(\"Guess your word: \").lower()\n",
    "    \n",
    "    # Check guessed letter\n",
    "    for position in range(word_length):\n",
    "        letter = chosen_word[position]\n",
    "        if letter == guess:\n",
    "            new_list[position] = letter\n",
    "    print(new_list)\n",
    "\n",
    "    # Check if guess is not in the chosen word\n",
    "    if guess not in chosen_word:\n",
    "        lives -= 1\n",
    "        print(stages[lives])\n",
    "    \n",
    "    print(f\"Lives remaining: {lives}\")\n",
    "\n",
    "    # Check if the game is won or lost\n",
    "    if \"_\" not in new_list:\n",
    "        end_of_game = True\n",
    "        print(\"You win!\")\n",
    "    elif lives == 0:\n",
    "        end_of_game = True\n",
    "        print(\"You lost!\")"
   ]
  }
 ],
 "metadata": {
  "kernelspec": {
   "display_name": ".venv",
   "language": "python",
   "name": "python3"
  },
  "language_info": {
   "codemirror_mode": {
    "name": "ipython",
    "version": 3
   },
   "file_extension": ".py",
   "mimetype": "text/x-python",
   "name": "python",
   "nbconvert_exporter": "python",
   "pygments_lexer": "ipython3",
   "version": "3.13.1"
  }
 },
 "nbformat": 4,
 "nbformat_minor": 2
}
