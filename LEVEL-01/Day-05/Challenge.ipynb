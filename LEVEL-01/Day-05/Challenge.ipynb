{
 "cells": [
  {
   "cell_type": "markdown",
   "metadata": {},
   "source": [
    "Day-05 Task-01(Even_Number_Count)"
   ]
  },
  {
   "cell_type": "code",
   "execution_count": 2,
   "metadata": {},
   "outputs": [
    {
     "name": "stdout",
     "output_type": "stream",
     "text": [
      "2550\n"
     ]
    }
   ],
   "source": [
    "even_num = 0\n",
    "target = int(input(\"Enter your target numer : \"))\n",
    "for number in range(1, target+1):\n",
    "  if number % 2 == 0:\n",
    "    even_num += number\n",
    "\n",
    "print(even_num)\n"
   ]
  },
  {
   "cell_type": "markdown",
   "metadata": {},
   "source": [
    "Day-05 Task-02(Fizz-BuzzoGame)"
   ]
  },
  {
   "cell_type": "code",
   "execution_count": 4,
   "metadata": {},
   "outputs": [
    {
     "name": "stdout",
     "output_type": "stream",
     "text": [
      "1\n",
      "2\n",
      "FIZZBUZZ\n",
      "4\n",
      "BUZZ\n",
      "FIZZBUZZ\n",
      "7\n",
      "8\n",
      "FIZZBUZZ\n"
     ]
    }
   ],
   "source": [
    "for num in range(1, 10):\n",
    "  if num % 3 == 0 and num % 5 == 0 :\n",
    "    print(\"FIZZ\")\n",
    "  elif num % 5 == 0 :\n",
    "    print(\"BUZZ\")\n",
    "  elif num % 3 == 0 :\n",
    "    print(\"FIZZBUZZ\")\n",
    "  else:\n",
    "    print(num)\n"
   ]
  },
  {
   "cell_type": "markdown",
   "metadata": {},
   "source": [
    "Day-05 Task-03(Fizz-BuzzoGame)"
   ]
  },
  {
   "cell_type": "code",
   "execution_count": 5,
   "metadata": {},
   "outputs": [
    {
     "name": "stdout",
     "output_type": "stream",
     "text": [
      "The highest score in the class is: 500\n"
     ]
    }
   ],
   "source": [
    "# Input a list of student scores\n",
    "student_scores = input(\"Enter Students Score : \").split()\n",
    "for n in range(0, len(student_scores)):\n",
    "  student_scores[n] = int(student_scores[n])\n",
    "Highest_score = max(student_scores)\n",
    "print(f\"The highest score in the class is: {Highest_score}\")\n",
    "# Write your code below this row 👇\n"
   ]
  },
  {
   "cell_type": "markdown",
   "metadata": {},
   "source": [
    "Day-05 Task-04(Student-Avr-Score)"
   ]
  },
  {
   "cell_type": "code",
   "execution_count": 6,
   "metadata": {},
   "outputs": [
    {
     "name": "stdout",
     "output_type": "stream",
     "text": [
      "['68', '54', '67', '58', '95']\n",
      "total height = 342\n",
      "number of students = 5\n",
      "average height = 68\n"
     ]
    }
   ],
   "source": [
    "student_heights = input(\" Enter Students Height : \").split()\n",
    "total_height = 0\n",
    "print(student_heights)\n",
    "for n in range(0, len(student_heights)):\n",
    "  student_heights[n] = int(student_heights[n])\n",
    "for num in student_heights:\n",
    "  total_height += num\n",
    "number_of_students = len(student_heights)\n",
    "average_height = round(total_height/number_of_students)\n",
    "print(f\"total height = {total_height}\")\n",
    "print(f\"number of students = {number_of_students}\")\n",
    "print(f\"average height = {average_height}\")\n"
   ]
  }
 ],
 "metadata": {
  "kernelspec": {
   "display_name": ".venv",
   "language": "python",
   "name": "python3"
  },
  "language_info": {
   "codemirror_mode": {
    "name": "ipython",
    "version": 3
   },
   "file_extension": ".py",
   "mimetype": "text/x-python",
   "name": "python",
   "nbconvert_exporter": "python",
   "pygments_lexer": "ipython3",
   "version": "3.13.1"
  }
 },
 "nbformat": 4,
 "nbformat_minor": 2
}
