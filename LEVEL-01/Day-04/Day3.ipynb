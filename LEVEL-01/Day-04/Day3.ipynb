{
 "cells": [
  {
   "cell_type": "markdown",
   "metadata": {},
   "source": [
    "Day-4 Rock Paper Scissor"
   ]
  },
  {
   "cell_type": "code",
   "execution_count": 1,
   "metadata": {},
   "outputs": [],
   "source": [
    "import random\n",
    "from Art import rock, paper, scissors"
   ]
  },
  {
   "cell_type": "code",
   "execution_count": 2,
   "metadata": {},
   "outputs": [
    {
     "name": "stdout",
     "output_type": "stream",
     "text": [
      "2\n",
      "1\n"
     ]
    }
   ],
   "source": [
    "users_Choice = int(input(\"Enter your choice bu Type 0 for Paper 1 for rock and 2 for Scissor\"))\n",
    "print(users_Choice)\n",
    "Computer_Choice = random.randint(0, 2)\n",
    "print(Computer_Choice)"
   ]
  },
  {
   "cell_type": "code",
   "execution_count": 3,
   "metadata": {},
   "outputs": [
    {
     "name": "stdout",
     "output_type": "stream",
     "text": [
      "Computer Choice is: paper \n",
      " \n",
      "    _______\n",
      "---'   ____)____\n",
      "          ______)\n",
      "          _______)\n",
      "         _______)\n",
      "---.__________)\n",
      "\n",
      "users Choice is: scissor \n",
      " \n",
      "    _______\n",
      "---'   ____)____\n",
      "          ______)\n",
      "       __________)\n",
      "      (____)\n",
      "---.__(___)\n",
      "\n",
      "You_Win\n"
     ]
    }
   ],
   "source": [
    "if Computer_Choice == 0 and users_Choice == 1:\n",
    "  print(f\"users Choice is: rock \\n {rock}\")\n",
    "  print(f\"Computer Choice is: paper \\n {paper}\")\n",
    "  print(\"Computer_Win\")\n",
    "elif Computer_Choice == 1 and users_Choice == 0 :\n",
    "  print(f\"users Choice is: paper \\n {paper}\")\n",
    "  print(f\"Computer Choice is: rock \\n {rock}\")\n",
    "  print(\"You_Win\")\n",
    "elif Computer_Choice == 2 and users_Choice == 1:\n",
    "  print(f\"Computer Choice is: scissor \\n {scissors}\")\n",
    "  print(f\"users Choice is: paper \\n {paper}\")\n",
    "  print(\"Computer_Win\")\n",
    "elif Computer_Choice == 1 and users_Choice == 2:\n",
    "  print(f\"Computer Choice is: paper \\n {paper}\")\n",
    "  print(f\"users Choice is: scissor \\n {scissors}\")\n",
    "  print(\"You_Win\")\n",
    "elif Computer_Choice == 2 and users_Choice == 0:\n",
    "  print(f\"Computer Choice is: rock \\n  {scissors}\")\n",
    "  print(f\"users Choice is: scissor {rock}\")\n",
    "  print(\"You_Win\")\n",
    "elif Computer_Choice == 0 and users_Choice == 2:\n",
    "  print(f\"Computer Choice is: scissor \\n {rock}\")\n",
    "  print(f\"users Choice is: rock \\n {scissors}\")\n",
    "  print(\"Computer_Win\")\n",
    "elif Computer_Choice == 0 and users_Choice == 0:\n",
    "  print(f\"Computer Choice is: rock \\n {rock}\")\n",
    "  print(f\"users Choice is: rock \\n {rock}\")\n",
    "  print(\"Draw\")\n",
    "elif Computer_Choice == 1 and users_Choice == 1:\n",
    "  print(f\"Computer Choice is: \\n {paper}\")\n",
    "  print(f\"users Choice is: \\n {paper}\")\n",
    "  print(\"Draw\")\n",
    "elif Computer_Choice == 2 and users_Choice == 2:\n",
    "  print(f\"Computer Choice is: \\n {scissors}\")\n",
    "  print(f\"users Choice is: \\n {scissors}\")\n",
    "  print(\"Draw\")\n",
    "else :\n",
    "  print(\"You_lost\")\n"
   ]
  }
 ],
 "metadata": {
  "kernelspec": {
   "display_name": ".venv",
   "language": "python",
   "name": "python3"
  },
  "language_info": {
   "codemirror_mode": {
    "name": "ipython",
    "version": 3
   },
   "file_extension": ".py",
   "mimetype": "text/x-python",
   "name": "python",
   "nbconvert_exporter": "python",
   "pygments_lexer": "ipython3",
   "version": "3.13.1"
  }
 },
 "nbformat": 4,
 "nbformat_minor": 2
}
