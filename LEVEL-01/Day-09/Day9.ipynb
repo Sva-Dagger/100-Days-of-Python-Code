{
 "cells": [
  {
   "cell_type": "markdown",
   "metadata": {},
   "source": [
    "Day-9 Task-1(Bidding Game)"
   ]
  },
  {
   "cell_type": "code",
   "execution_count": 5,
   "metadata": {},
   "outputs": [
    {
     "name": "stdout",
     "output_type": "stream",
     "text": [
      "Welcome to bidding game\n"
     ]
    }
   ],
   "source": [
    "print(\"Welcome to bidding game\")"
   ]
  },
  {
   "cell_type": "code",
   "execution_count": 6,
   "metadata": {},
   "outputs": [],
   "source": [
    "Bid_list = {}\n",
    "def find_highest_bidder(bidding_record):\n",
    "    highest_bid = 0\n",
    "    winner = \"\"\n",
    "    for bidder in bidding_record:\n",
    "        bid_amount = bidding_record[bidder]\n",
    "        if bid_amount > highest_bid:\n",
    "            highest_bid = bid_amount\n",
    "            winner = bidder\n",
    "    print(f\"The winner is {winner} with a bid of ${highest_bid}\")"
   ]
  },
  {
   "cell_type": "code",
   "execution_count": null,
   "metadata": {},
   "outputs": [
    {
     "name": "stdout",
     "output_type": "stream",
     "text": [
      "{'Ram': 50}\n",
      "{'Ram': 50, 'rahul': 60}\n",
      "{'Ram': 50, 'rahul': 60, 'ram': 80}\n",
      "{'Ram': 50, 'rahul': 60, 'ram': 80, 'siva': 100}\n",
      "The winner is siva with a bid of $100\n"
     ]
    }
   ],
   "source": [
    "Continue = False\n",
    "while not Continue:\n",
    "    name = input(\"Enter bidder name: \").title()\n",
    "    price = int(input(\"Ask for bid price $: \"))\n",
    "    Bid_list[name] = price\n",
    "    print(Bid_list)\n",
    "\n",
    "    bidder = input(\"Is there any other bidder? yes/no: \").lower()\n",
    "    if bidder == \"yes\":\n",
    "        Continue = False\n",
    "    elif bidder == \"no\":\n",
    "        find_highest_bidder(bidding_record=Bid_list)\n",
    "        Continue = True"
   ]
  }
 ],
 "metadata": {
  "kernelspec": {
   "display_name": ".venv",
   "language": "python",
   "name": "python3"
  },
  "language_info": {
   "codemirror_mode": {
    "name": "ipython",
    "version": 3
   },
   "file_extension": ".py",
   "mimetype": "text/x-python",
   "name": "python",
   "nbconvert_exporter": "python",
   "pygments_lexer": "ipython3",
   "version": "3.13.1"
  }
 },
 "nbformat": 4,
 "nbformat_minor": 2
}
